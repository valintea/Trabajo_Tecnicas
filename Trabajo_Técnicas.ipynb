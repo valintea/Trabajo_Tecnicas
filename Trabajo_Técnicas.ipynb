{
  "nbformat": 4,
  "nbformat_minor": 0,
  "metadata": {
    "colab": {
      "provenance": [],
      "include_colab_link": true
    },
    "kernelspec": {
      "name": "python3",
      "display_name": "Python 3"
    },
    "language_info": {
      "name": "python"
    }
  },
  "cells": [
    {
      "cell_type": "markdown",
      "metadata": {
        "id": "view-in-github",
        "colab_type": "text"
      },
      "source": [
        "<a href=\"https://colab.research.google.com/github/valintea/Trabajo_Tecnicas/blob/main/Trabajo_T%C3%A9cnicas.ipynb\" target=\"_parent\"><img src=\"https://colab.research.google.com/assets/colab-badge.svg\" alt=\"Open In Colab\"/></a>"
      ]
    },
    {
      "cell_type": "markdown",
      "source": [],
      "metadata": {
        "id": "f7E50q0LJwk7"
      }
    },
    {
      "cell_type": "code",
      "source": [
        "import pandas as pd\n",
        "df = pd.read_csv('Tweets.csv')\n",
        "\n"
      ],
      "metadata": {
        "id": "ln8aZ2tB-5xz"
      },
      "execution_count": 77,
      "outputs": []
    },
    {
      "cell_type": "markdown",
      "source": [],
      "metadata": {
        "id": "CboM-TADJxON"
      }
    },
    {
      "cell_type": "code",
      "source": [
        "df.head()"
      ],
      "metadata": {
        "id": "52HGIsJjDQNi",
        "outputId": "82fcac7d-9749-4aa8-c45c-3f68f5cd612f",
        "colab": {
          "base_uri": "https://localhost:8080/",
          "height": 451
        }
      },
      "execution_count": 78,
      "outputs": [
        {
          "output_type": "execute_result",
          "data": {
            "text/plain": [
              "             tweet_id airline_sentiment  airline_sentiment_confidence  \\\n",
              "0  570306133677760513           neutral                        1.0000   \n",
              "1  570301130888122368          positive                        0.3486   \n",
              "2  570301083672813571           neutral                        0.6837   \n",
              "3  570301031407624196          negative                        1.0000   \n",
              "4  570300817074462722          negative                        1.0000   \n",
              "\n",
              "  negativereason  negativereason_confidence         airline  \\\n",
              "0            NaN                        NaN  Virgin America   \n",
              "1            NaN                     0.0000  Virgin America   \n",
              "2            NaN                        NaN  Virgin America   \n",
              "3     Bad Flight                     0.7033  Virgin America   \n",
              "4     Can't Tell                     1.0000  Virgin America   \n",
              "\n",
              "  airline_sentiment_gold        name negativereason_gold  retweet_count  \\\n",
              "0                    NaN     cairdin                 NaN              0   \n",
              "1                    NaN    jnardino                 NaN              0   \n",
              "2                    NaN  yvonnalynn                 NaN              0   \n",
              "3                    NaN    jnardino                 NaN              0   \n",
              "4                    NaN    jnardino                 NaN              0   \n",
              "\n",
              "                                                text tweet_coord  \\\n",
              "0                @VirginAmerica What @dhepburn said.         NaN   \n",
              "1  @VirginAmerica plus you've added commercials t...         NaN   \n",
              "2  @VirginAmerica I didn't today... Must mean I n...         NaN   \n",
              "3  @VirginAmerica it's really aggressive to blast...         NaN   \n",
              "4  @VirginAmerica and it's a really big bad thing...         NaN   \n",
              "\n",
              "               tweet_created tweet_location               user_timezone  \n",
              "0  2015-02-24 11:35:52 -0800            NaN  Eastern Time (US & Canada)  \n",
              "1  2015-02-24 11:15:59 -0800            NaN  Pacific Time (US & Canada)  \n",
              "2  2015-02-24 11:15:48 -0800      Lets Play  Central Time (US & Canada)  \n",
              "3  2015-02-24 11:15:36 -0800            NaN  Pacific Time (US & Canada)  \n",
              "4  2015-02-24 11:14:45 -0800            NaN  Pacific Time (US & Canada)  "
            ],
            "text/html": [
              "\n",
              "  <div id=\"df-9a5e61b2-49a2-4a4e-966b-c410d436d553\" class=\"colab-df-container\">\n",
              "    <div>\n",
              "<style scoped>\n",
              "    .dataframe tbody tr th:only-of-type {\n",
              "        vertical-align: middle;\n",
              "    }\n",
              "\n",
              "    .dataframe tbody tr th {\n",
              "        vertical-align: top;\n",
              "    }\n",
              "\n",
              "    .dataframe thead th {\n",
              "        text-align: right;\n",
              "    }\n",
              "</style>\n",
              "<table border=\"1\" class=\"dataframe\">\n",
              "  <thead>\n",
              "    <tr style=\"text-align: right;\">\n",
              "      <th></th>\n",
              "      <th>tweet_id</th>\n",
              "      <th>airline_sentiment</th>\n",
              "      <th>airline_sentiment_confidence</th>\n",
              "      <th>negativereason</th>\n",
              "      <th>negativereason_confidence</th>\n",
              "      <th>airline</th>\n",
              "      <th>airline_sentiment_gold</th>\n",
              "      <th>name</th>\n",
              "      <th>negativereason_gold</th>\n",
              "      <th>retweet_count</th>\n",
              "      <th>text</th>\n",
              "      <th>tweet_coord</th>\n",
              "      <th>tweet_created</th>\n",
              "      <th>tweet_location</th>\n",
              "      <th>user_timezone</th>\n",
              "    </tr>\n",
              "  </thead>\n",
              "  <tbody>\n",
              "    <tr>\n",
              "      <th>0</th>\n",
              "      <td>570306133677760513</td>\n",
              "      <td>neutral</td>\n",
              "      <td>1.0000</td>\n",
              "      <td>NaN</td>\n",
              "      <td>NaN</td>\n",
              "      <td>Virgin America</td>\n",
              "      <td>NaN</td>\n",
              "      <td>cairdin</td>\n",
              "      <td>NaN</td>\n",
              "      <td>0</td>\n",
              "      <td>@VirginAmerica What @dhepburn said.</td>\n",
              "      <td>NaN</td>\n",
              "      <td>2015-02-24 11:35:52 -0800</td>\n",
              "      <td>NaN</td>\n",
              "      <td>Eastern Time (US &amp; Canada)</td>\n",
              "    </tr>\n",
              "    <tr>\n",
              "      <th>1</th>\n",
              "      <td>570301130888122368</td>\n",
              "      <td>positive</td>\n",
              "      <td>0.3486</td>\n",
              "      <td>NaN</td>\n",
              "      <td>0.0000</td>\n",
              "      <td>Virgin America</td>\n",
              "      <td>NaN</td>\n",
              "      <td>jnardino</td>\n",
              "      <td>NaN</td>\n",
              "      <td>0</td>\n",
              "      <td>@VirginAmerica plus you've added commercials t...</td>\n",
              "      <td>NaN</td>\n",
              "      <td>2015-02-24 11:15:59 -0800</td>\n",
              "      <td>NaN</td>\n",
              "      <td>Pacific Time (US &amp; Canada)</td>\n",
              "    </tr>\n",
              "    <tr>\n",
              "      <th>2</th>\n",
              "      <td>570301083672813571</td>\n",
              "      <td>neutral</td>\n",
              "      <td>0.6837</td>\n",
              "      <td>NaN</td>\n",
              "      <td>NaN</td>\n",
              "      <td>Virgin America</td>\n",
              "      <td>NaN</td>\n",
              "      <td>yvonnalynn</td>\n",
              "      <td>NaN</td>\n",
              "      <td>0</td>\n",
              "      <td>@VirginAmerica I didn't today... Must mean I n...</td>\n",
              "      <td>NaN</td>\n",
              "      <td>2015-02-24 11:15:48 -0800</td>\n",
              "      <td>Lets Play</td>\n",
              "      <td>Central Time (US &amp; Canada)</td>\n",
              "    </tr>\n",
              "    <tr>\n",
              "      <th>3</th>\n",
              "      <td>570301031407624196</td>\n",
              "      <td>negative</td>\n",
              "      <td>1.0000</td>\n",
              "      <td>Bad Flight</td>\n",
              "      <td>0.7033</td>\n",
              "      <td>Virgin America</td>\n",
              "      <td>NaN</td>\n",
              "      <td>jnardino</td>\n",
              "      <td>NaN</td>\n",
              "      <td>0</td>\n",
              "      <td>@VirginAmerica it's really aggressive to blast...</td>\n",
              "      <td>NaN</td>\n",
              "      <td>2015-02-24 11:15:36 -0800</td>\n",
              "      <td>NaN</td>\n",
              "      <td>Pacific Time (US &amp; Canada)</td>\n",
              "    </tr>\n",
              "    <tr>\n",
              "      <th>4</th>\n",
              "      <td>570300817074462722</td>\n",
              "      <td>negative</td>\n",
              "      <td>1.0000</td>\n",
              "      <td>Can't Tell</td>\n",
              "      <td>1.0000</td>\n",
              "      <td>Virgin America</td>\n",
              "      <td>NaN</td>\n",
              "      <td>jnardino</td>\n",
              "      <td>NaN</td>\n",
              "      <td>0</td>\n",
              "      <td>@VirginAmerica and it's a really big bad thing...</td>\n",
              "      <td>NaN</td>\n",
              "      <td>2015-02-24 11:14:45 -0800</td>\n",
              "      <td>NaN</td>\n",
              "      <td>Pacific Time (US &amp; Canada)</td>\n",
              "    </tr>\n",
              "  </tbody>\n",
              "</table>\n",
              "</div>\n",
              "    <div class=\"colab-df-buttons\">\n",
              "\n",
              "  <div class=\"colab-df-container\">\n",
              "    <button class=\"colab-df-convert\" onclick=\"convertToInteractive('df-9a5e61b2-49a2-4a4e-966b-c410d436d553')\"\n",
              "            title=\"Convert this dataframe to an interactive table.\"\n",
              "            style=\"display:none;\">\n",
              "\n",
              "  <svg xmlns=\"http://www.w3.org/2000/svg\" height=\"24px\" viewBox=\"0 -960 960 960\">\n",
              "    <path d=\"M120-120v-720h720v720H120Zm60-500h600v-160H180v160Zm220 220h160v-160H400v160Zm0 220h160v-160H400v160ZM180-400h160v-160H180v160Zm440 0h160v-160H620v160ZM180-180h160v-160H180v160Zm440 0h160v-160H620v160Z\"/>\n",
              "  </svg>\n",
              "    </button>\n",
              "\n",
              "  <style>\n",
              "    .colab-df-container {\n",
              "      display:flex;\n",
              "      gap: 12px;\n",
              "    }\n",
              "\n",
              "    .colab-df-convert {\n",
              "      background-color: #E8F0FE;\n",
              "      border: none;\n",
              "      border-radius: 50%;\n",
              "      cursor: pointer;\n",
              "      display: none;\n",
              "      fill: #1967D2;\n",
              "      height: 32px;\n",
              "      padding: 0 0 0 0;\n",
              "      width: 32px;\n",
              "    }\n",
              "\n",
              "    .colab-df-convert:hover {\n",
              "      background-color: #E2EBFA;\n",
              "      box-shadow: 0px 1px 2px rgba(60, 64, 67, 0.3), 0px 1px 3px 1px rgba(60, 64, 67, 0.15);\n",
              "      fill: #174EA6;\n",
              "    }\n",
              "\n",
              "    .colab-df-buttons div {\n",
              "      margin-bottom: 4px;\n",
              "    }\n",
              "\n",
              "    [theme=dark] .colab-df-convert {\n",
              "      background-color: #3B4455;\n",
              "      fill: #D2E3FC;\n",
              "    }\n",
              "\n",
              "    [theme=dark] .colab-df-convert:hover {\n",
              "      background-color: #434B5C;\n",
              "      box-shadow: 0px 1px 3px 1px rgba(0, 0, 0, 0.15);\n",
              "      filter: drop-shadow(0px 1px 2px rgba(0, 0, 0, 0.3));\n",
              "      fill: #FFFFFF;\n",
              "    }\n",
              "  </style>\n",
              "\n",
              "    <script>\n",
              "      const buttonEl =\n",
              "        document.querySelector('#df-9a5e61b2-49a2-4a4e-966b-c410d436d553 button.colab-df-convert');\n",
              "      buttonEl.style.display =\n",
              "        google.colab.kernel.accessAllowed ? 'block' : 'none';\n",
              "\n",
              "      async function convertToInteractive(key) {\n",
              "        const element = document.querySelector('#df-9a5e61b2-49a2-4a4e-966b-c410d436d553');\n",
              "        const dataTable =\n",
              "          await google.colab.kernel.invokeFunction('convertToInteractive',\n",
              "                                                    [key], {});\n",
              "        if (!dataTable) return;\n",
              "\n",
              "        const docLinkHtml = 'Like what you see? Visit the ' +\n",
              "          '<a target=\"_blank\" href=https://colab.research.google.com/notebooks/data_table.ipynb>data table notebook</a>'\n",
              "          + ' to learn more about interactive tables.';\n",
              "        element.innerHTML = '';\n",
              "        dataTable['output_type'] = 'display_data';\n",
              "        await google.colab.output.renderOutput(dataTable, element);\n",
              "        const docLink = document.createElement('div');\n",
              "        docLink.innerHTML = docLinkHtml;\n",
              "        element.appendChild(docLink);\n",
              "      }\n",
              "    </script>\n",
              "  </div>\n",
              "\n",
              "\n",
              "<div id=\"df-935b4ad1-45ce-43d4-a9ff-96a4a9707f0d\">\n",
              "  <button class=\"colab-df-quickchart\" onclick=\"quickchart('df-935b4ad1-45ce-43d4-a9ff-96a4a9707f0d')\"\n",
              "            title=\"Suggest charts\"\n",
              "            style=\"display:none;\">\n",
              "\n",
              "<svg xmlns=\"http://www.w3.org/2000/svg\" height=\"24px\"viewBox=\"0 0 24 24\"\n",
              "     width=\"24px\">\n",
              "    <g>\n",
              "        <path d=\"M19 3H5c-1.1 0-2 .9-2 2v14c0 1.1.9 2 2 2h14c1.1 0 2-.9 2-2V5c0-1.1-.9-2-2-2zM9 17H7v-7h2v7zm4 0h-2V7h2v10zm4 0h-2v-4h2v4z\"/>\n",
              "    </g>\n",
              "</svg>\n",
              "  </button>\n",
              "\n",
              "<style>\n",
              "  .colab-df-quickchart {\n",
              "      --bg-color: #E8F0FE;\n",
              "      --fill-color: #1967D2;\n",
              "      --hover-bg-color: #E2EBFA;\n",
              "      --hover-fill-color: #174EA6;\n",
              "      --disabled-fill-color: #AAA;\n",
              "      --disabled-bg-color: #DDD;\n",
              "  }\n",
              "\n",
              "  [theme=dark] .colab-df-quickchart {\n",
              "      --bg-color: #3B4455;\n",
              "      --fill-color: #D2E3FC;\n",
              "      --hover-bg-color: #434B5C;\n",
              "      --hover-fill-color: #FFFFFF;\n",
              "      --disabled-bg-color: #3B4455;\n",
              "      --disabled-fill-color: #666;\n",
              "  }\n",
              "\n",
              "  .colab-df-quickchart {\n",
              "    background-color: var(--bg-color);\n",
              "    border: none;\n",
              "    border-radius: 50%;\n",
              "    cursor: pointer;\n",
              "    display: none;\n",
              "    fill: var(--fill-color);\n",
              "    height: 32px;\n",
              "    padding: 0;\n",
              "    width: 32px;\n",
              "  }\n",
              "\n",
              "  .colab-df-quickchart:hover {\n",
              "    background-color: var(--hover-bg-color);\n",
              "    box-shadow: 0 1px 2px rgba(60, 64, 67, 0.3), 0 1px 3px 1px rgba(60, 64, 67, 0.15);\n",
              "    fill: var(--button-hover-fill-color);\n",
              "  }\n",
              "\n",
              "  .colab-df-quickchart-complete:disabled,\n",
              "  .colab-df-quickchart-complete:disabled:hover {\n",
              "    background-color: var(--disabled-bg-color);\n",
              "    fill: var(--disabled-fill-color);\n",
              "    box-shadow: none;\n",
              "  }\n",
              "\n",
              "  .colab-df-spinner {\n",
              "    border: 2px solid var(--fill-color);\n",
              "    border-color: transparent;\n",
              "    border-bottom-color: var(--fill-color);\n",
              "    animation:\n",
              "      spin 1s steps(1) infinite;\n",
              "  }\n",
              "\n",
              "  @keyframes spin {\n",
              "    0% {\n",
              "      border-color: transparent;\n",
              "      border-bottom-color: var(--fill-color);\n",
              "      border-left-color: var(--fill-color);\n",
              "    }\n",
              "    20% {\n",
              "      border-color: transparent;\n",
              "      border-left-color: var(--fill-color);\n",
              "      border-top-color: var(--fill-color);\n",
              "    }\n",
              "    30% {\n",
              "      border-color: transparent;\n",
              "      border-left-color: var(--fill-color);\n",
              "      border-top-color: var(--fill-color);\n",
              "      border-right-color: var(--fill-color);\n",
              "    }\n",
              "    40% {\n",
              "      border-color: transparent;\n",
              "      border-right-color: var(--fill-color);\n",
              "      border-top-color: var(--fill-color);\n",
              "    }\n",
              "    60% {\n",
              "      border-color: transparent;\n",
              "      border-right-color: var(--fill-color);\n",
              "    }\n",
              "    80% {\n",
              "      border-color: transparent;\n",
              "      border-right-color: var(--fill-color);\n",
              "      border-bottom-color: var(--fill-color);\n",
              "    }\n",
              "    90% {\n",
              "      border-color: transparent;\n",
              "      border-bottom-color: var(--fill-color);\n",
              "    }\n",
              "  }\n",
              "</style>\n",
              "\n",
              "  <script>\n",
              "    async function quickchart(key) {\n",
              "      const quickchartButtonEl =\n",
              "        document.querySelector('#' + key + ' button');\n",
              "      quickchartButtonEl.disabled = true;  // To prevent multiple clicks.\n",
              "      quickchartButtonEl.classList.add('colab-df-spinner');\n",
              "      try {\n",
              "        const charts = await google.colab.kernel.invokeFunction(\n",
              "            'suggestCharts', [key], {});\n",
              "      } catch (error) {\n",
              "        console.error('Error during call to suggestCharts:', error);\n",
              "      }\n",
              "      quickchartButtonEl.classList.remove('colab-df-spinner');\n",
              "      quickchartButtonEl.classList.add('colab-df-quickchart-complete');\n",
              "    }\n",
              "    (() => {\n",
              "      let quickchartButtonEl =\n",
              "        document.querySelector('#df-935b4ad1-45ce-43d4-a9ff-96a4a9707f0d button');\n",
              "      quickchartButtonEl.style.display =\n",
              "        google.colab.kernel.accessAllowed ? 'block' : 'none';\n",
              "    })();\n",
              "  </script>\n",
              "</div>\n",
              "    </div>\n",
              "  </div>\n"
            ]
          },
          "metadata": {},
          "execution_count": 78
        }
      ]
    },
    {
      "cell_type": "markdown",
      "source": [],
      "metadata": {
        "id": "05QbnFGjJytv"
      }
    },
    {
      "cell_type": "code",
      "source": [
        "df.airline_sentiment.value_counts()"
      ],
      "metadata": {
        "id": "wSFFcw4H_3Cr",
        "outputId": "3da47fe1-f5a4-4295-9755-8c3a7506eca8",
        "colab": {
          "base_uri": "https://localhost:8080/"
        }
      },
      "execution_count": 79,
      "outputs": [
        {
          "output_type": "execute_result",
          "data": {
            "text/plain": [
              "negative    9178\n",
              "neutral     3099\n",
              "positive    2363\n",
              "Name: airline_sentiment, dtype: int64"
            ]
          },
          "metadata": {},
          "execution_count": 79
        }
      ]
    },
    {
      "cell_type": "markdown",
      "source": [],
      "metadata": {
        "id": "4v04EBNXJz2l"
      }
    },
    {
      "cell_type": "code",
      "source": [
        "df['airline_sentiment'] = df['airline_sentiment'].replace({'neutral': 'positive'})"
      ],
      "metadata": {
        "id": "UXbRY0KfAXrN"
      },
      "execution_count": 80,
      "outputs": []
    },
    {
      "cell_type": "code",
      "source": [
        "df.airline_sentiment.value_counts()"
      ],
      "metadata": {
        "id": "cpLR13-pAtQ3",
        "outputId": "e2d68d66-2123-4277-8e46-38c3b933be0b",
        "colab": {
          "base_uri": "https://localhost:8080/"
        }
      },
      "execution_count": 81,
      "outputs": [
        {
          "output_type": "execute_result",
          "data": {
            "text/plain": [
              "negative    9178\n",
              "positive    5462\n",
              "Name: airline_sentiment, dtype: int64"
            ]
          },
          "metadata": {},
          "execution_count": 81
        }
      ]
    },
    {
      "cell_type": "code",
      "source": [
        "for tweet in df['text'][90:120]:\n",
        "    print(tweet)"
      ],
      "metadata": {
        "colab": {
          "base_uri": "https://localhost:8080/"
        },
        "id": "XPzcLYUXCP5Y",
        "outputId": "20459254-f39b-45a3-97e3-70430441a206"
      },
      "execution_count": 82,
      "outputs": [
        {
          "output_type": "stream",
          "name": "stdout",
          "text": [
            "@VirginAmerica \"You down with RNP?\" \"Yeah you know me!\"\n",
            "@VirginAmerica hi, i did not get points on my elevate account for my most recent flight, how do i add the flight and points to my account?\n",
            "@VirginAmerica I like the TV and interesting video . Just disappointed in Cancelled Flightled flight when other flights went out to jfk on Saturday .\n",
            "@VirginAmerica just landed in LAX, an hour after I should of been here. Your no Late Flight bag check is not business travel friendly #nomorevirgin\n",
            "@VirginAmerica why is flight 345 redirected?\n",
            "@VirginAmerica Is it me, or is your website down?  BTW, your new website isn't a great user experience.  Time for another redesign.\n",
            "@VirginAmerica I can't check in or add a bag. Your website isn't working. I've tried both desktop and mobile http://t.co/AvyqdMpi1Y\n",
            "@VirginAmerica - Let 2 scanned in passengers leave the plane than told someone to remove their bag from 1st class bin? #uncomfortable\n",
            "@virginamerica What is your phone number. I can't find who to call about a flight reservation.\n",
            "@VirginAmerica is anyone doing anything there today?  Website is useless and no one is answering the phone.\n",
            "@VirginAmerica trying to add my boy Prince to my ressie. SF this Thursday @VirginAmerica from LAX http://t.co/GsB2J3c4gM\n",
            "@VirginAmerica why must a traveler miss a flight to Late Flight check a bag?  I missed my morning appointments and you lost my business. #sfo2lax\n",
            "@VirginAmerica check out new music http://t.co/maRcnOCWzn\n",
            "@virginamerica how's a direct flight FLL-&gt;SFO have unexpected layover in Vegas 4 fuel yet peeps next to me bought for Vegas flight. #sneaky\n",
            "@VirginAmerica your no Late Flight bag check just lost you my business. I missed flight and AM apt. Three other people on flight had same exp.\n",
            "@VirginAmerica - amazing customer  service, again! 💕💕 RaeAnn in SF - she's the best! #customerservice #virginamerica #flying\n",
            "@VirginAmerica called your service line and was hung up on. This is awesome. #sarcasm\n",
            "@VirginAmerica your site is tripping. I'm trying to check in and I'm getting the plain text version. I am reluctant to enter any card info.\n",
            "@VirginAmerica I was scheduled for SFO 2 DAL flight 714 today. Changed to 24th due weather. Looks like flight still on?\n",
            "@VirginAmerica has getaway deals through May, from $59 one-way. Lots of cool cities http://t.co/tZZJhuIbCH #CheapFlights #FareCompare\n",
            "@VirginAmerica has getaway deals through May, from $59 one-way. Lots of cool cities http://t.co/RPdBpX3wNd #CheapFlights #FareCompare\n",
            "@VirginAmerica has getaway deals through May, from $59 one-way. Lots of cool cities http://t.co/B2Xi4YG5T8 #CheapFlights #FareCompare\n",
            "@VirginAmerica has getaway deals through May, from $59 one-way. Lots of cool cities http://t.co/QDlJHslOI5 #CheapFlights #FareCompare\n",
            "@VirginAmerica Have a great week 🌞✈\n",
            "@VirginAmerica come back to #PHL already. We need you to take us out of this horrible cold. #pleasecomeback http://t.co/gLXFwP6nQH\n",
            "@VirginAmerica should I be concerned that I am about to fly on a plane that needs to be delayed due to a \"tech stop\"?\n",
            "@VirginAmerica is the best airline I have flown on.Easy to change your reservation,helpful representatives &amp; a comfortable flying experience\n",
            "@VirginAmerica and again! Another rep kicked butt! Naelah represents your team so beautifully!! Thank you!!!\n",
            "@VirginAmerica your beautiful front-end design is down right now; but it was cool to still book my ticket b/c all your back-end was secure.\n",
            "@VirginAmerica Love the team running Gate E9 at LAS tonight. Waited for a delayed flight, and they kept things entertaining\n"
          ]
        }
      ]
    },
    {
      "cell_type": "code",
      "source": [
        "import pandas as pd\n",
        "\n",
        "# Encuentra y muestra los tweets duplicados\n",
        "duplicados = df[df.duplicated(subset='text', keep=False)]\n",
        "print(duplicados['text'])"
      ],
      "metadata": {
        "id": "8wWFL80nLiDj",
        "outputId": "0f7d9b3a-2561-40a2-a2c2-0d41d5fbac4b",
        "colab": {
          "base_uri": "https://localhost:8080/"
        }
      },
      "execution_count": 83,
      "outputs": [
        {
          "output_type": "stream",
          "name": "stdout",
          "text": [
            "14                                  @VirginAmerica Thanks!\n",
            "331                                 @VirginAmerica Thanks!\n",
            "504                                         @united thanks\n",
            "515                                         @united thanks\n",
            "615                                     @united Thank you.\n",
            "                               ...                        \n",
            "13995    @AmericanAir  800 number will not even let you...\n",
            "14386    @AmericanAir I want to speak to a human being!...\n",
            "14392    @AmericanAir no response to DM or email yet.  ...\n",
            "14543    @AmericanAir should reconsider #usairways acqu...\n",
            "14556         @AmericanAir Thank you.....you do the same!!\n",
            "Name: text, Length: 400, dtype: object\n"
          ]
        }
      ]
    },
    {
      "cell_type": "code",
      "source": [
        "import pandas as pd\n",
        "import re\n",
        "\n",
        "\n",
        "# Patrón de enlaces\n",
        "patron_enlace = r'http[s]?://(?:[a-zA-Z]|[0-9]|[$-_@.&+]|[!*\\\\(\\\\),]|(?:%[0-9a-fA-F][0-9a-fA-F]))+'\n",
        "patron_virgin = '@VirginAmerica'\n",
        "\n",
        "# Iterar sobre las filas y aplicar la condición\n",
        "for index, row in df.iterrows():\n",
        "    texto_sin_enlaces = re.sub(patron_enlace, '', row['text'])\n",
        "    if len(texto_sin_enlaces) >= 35:\n",
        "        df.at[index, 'text'] = texto_sin_enlaces\n",
        "# Iterar sobre las filas y aplicar la condición\n",
        "for index, row in df.iterrows():\n",
        "    texto_sin_enlaces = re.sub(patron_virgin, '', row['text'])\n",
        "    df.at[index, 'text'] = texto_sin_enlaces\n",
        "\n",
        "\n",
        "# Filtrar tweets que cumplen con la condición\n",
        "tweets_procesados = df['text'].loc[df['text'] != \"\"]\n",
        "\n",
        "# Muestra los tweets procesados que cumplen con la condición\n",
        "for tweet in tweets_procesados[90:120]:\n",
        "    print(tweet)\n",
        "len(tweets_procesados[90])"
      ],
      "metadata": {
        "id": "Qk45PV6UMFk9",
        "outputId": "87fe7220-a403-4342-92ab-71220b14da61",
        "colab": {
          "base_uri": "https://localhost:8080/"
        }
      },
      "execution_count": 84,
      "outputs": [
        {
          "output_type": "stream",
          "name": "stdout",
          "text": [
            " \"You down with RNP?\" \"Yeah you know me!\"\n",
            " hi, i did not get points on my elevate account for my most recent flight, how do i add the flight and points to my account?\n",
            " I like the TV and interesting video . Just disappointed in Cancelled Flightled flight when other flights went out to jfk on Saturday .\n",
            " just landed in LAX, an hour after I should of been here. Your no Late Flight bag check is not business travel friendly #nomorevirgin\n",
            " why is flight 345 redirected?\n",
            " Is it me, or is your website down?  BTW, your new website isn't a great user experience.  Time for another redesign.\n",
            " I can't check in or add a bag. Your website isn't working. I've tried both desktop and mobile \n",
            " - Let 2 scanned in passengers leave the plane than told someone to remove their bag from 1st class bin? #uncomfortable\n",
            "@virginamerica What is your phone number. I can't find who to call about a flight reservation.\n",
            " is anyone doing anything there today?  Website is useless and no one is answering the phone.\n",
            " trying to add my boy Prince to my ressie. SF this Thursday  from LAX \n",
            " why must a traveler miss a flight to Late Flight check a bag?  I missed my morning appointments and you lost my business. #sfo2lax\n",
            " check out new music \n",
            "@virginamerica how's a direct flight FLL-&gt;SFO have unexpected layover in Vegas 4 fuel yet peeps next to me bought for Vegas flight. #sneaky\n",
            " your no Late Flight bag check just lost you my business. I missed flight and AM apt. Three other people on flight had same exp.\n",
            " - amazing customer  service, again! 💕💕 RaeAnn in SF - she's the best! #customerservice #virginamerica #flying\n",
            " called your service line and was hung up on. This is awesome. #sarcasm\n",
            " your site is tripping. I'm trying to check in and I'm getting the plain text version. I am reluctant to enter any card info.\n",
            " I was scheduled for SFO 2 DAL flight 714 today. Changed to 24th due weather. Looks like flight still on?\n",
            " has getaway deals through May, from $59 one-way. Lots of cool cities  #CheapFlights #FareCompare\n",
            " has getaway deals through May, from $59 one-way. Lots of cool cities  #CheapFlights #FareCompare\n",
            " has getaway deals through May, from $59 one-way. Lots of cool cities  #CheapFlights #FareCompare\n",
            " has getaway deals through May, from $59 one-way. Lots of cool cities  #CheapFlights #FareCompare\n",
            " Have a great week 🌞✈\n",
            " come back to #PHL already. We need you to take us out of this horrible cold. #pleasecomeback \n",
            " should I be concerned that I am about to fly on a plane that needs to be delayed due to a \"tech stop\"?\n",
            " is the best airline I have flown on.Easy to change your reservation,helpful representatives &amp; a comfortable flying experience\n",
            " and again! Another rep kicked butt! Naelah represents your team so beautifully!! Thank you!!!\n",
            " your beautiful front-end design is down right now; but it was cool to still book my ticket b/c all your back-end was secure.\n",
            " Love the team running Gate E9 at LAS tonight. Waited for a delayed flight, and they kept things entertaining\n"
          ]
        },
        {
          "output_type": "execute_result",
          "data": {
            "text/plain": [
              "41"
            ]
          },
          "metadata": {},
          "execution_count": 84
        }
      ]
    },
    {
      "cell_type": "code",
      "source": [
        "# Convertir la columna 'text' a minúsculas\n",
        "df['text'] = df['text'].str.lower()\n",
        "for tweet in df['text'][90:120]:\n",
        "    print(tweet)"
      ],
      "metadata": {
        "id": "Ki03Tyt3Orlm",
        "outputId": "f46b5186-f5c1-4e3b-8b1d-7b412a80ffe6",
        "colab": {
          "base_uri": "https://localhost:8080/"
        }
      },
      "execution_count": 85,
      "outputs": [
        {
          "output_type": "stream",
          "name": "stdout",
          "text": [
            " \"you down with rnp?\" \"yeah you know me!\"\n",
            " hi, i did not get points on my elevate account for my most recent flight, how do i add the flight and points to my account?\n",
            " i like the tv and interesting video . just disappointed in cancelled flightled flight when other flights went out to jfk on saturday .\n",
            " just landed in lax, an hour after i should of been here. your no late flight bag check is not business travel friendly #nomorevirgin\n",
            " why is flight 345 redirected?\n",
            " is it me, or is your website down?  btw, your new website isn't a great user experience.  time for another redesign.\n",
            " i can't check in or add a bag. your website isn't working. i've tried both desktop and mobile \n",
            " - let 2 scanned in passengers leave the plane than told someone to remove their bag from 1st class bin? #uncomfortable\n",
            "@virginamerica what is your phone number. i can't find who to call about a flight reservation.\n",
            " is anyone doing anything there today?  website is useless and no one is answering the phone.\n",
            " trying to add my boy prince to my ressie. sf this thursday  from lax \n",
            " why must a traveler miss a flight to late flight check a bag?  i missed my morning appointments and you lost my business. #sfo2lax\n",
            " check out new music \n",
            "@virginamerica how's a direct flight fll-&gt;sfo have unexpected layover in vegas 4 fuel yet peeps next to me bought for vegas flight. #sneaky\n",
            " your no late flight bag check just lost you my business. i missed flight and am apt. three other people on flight had same exp.\n",
            " - amazing customer  service, again! 💕💕 raeann in sf - she's the best! #customerservice #virginamerica #flying\n",
            " called your service line and was hung up on. this is awesome. #sarcasm\n",
            " your site is tripping. i'm trying to check in and i'm getting the plain text version. i am reluctant to enter any card info.\n",
            " i was scheduled for sfo 2 dal flight 714 today. changed to 24th due weather. looks like flight still on?\n",
            " has getaway deals through may, from $59 one-way. lots of cool cities  #cheapflights #farecompare\n",
            " has getaway deals through may, from $59 one-way. lots of cool cities  #cheapflights #farecompare\n",
            " has getaway deals through may, from $59 one-way. lots of cool cities  #cheapflights #farecompare\n",
            " has getaway deals through may, from $59 one-way. lots of cool cities  #cheapflights #farecompare\n",
            " have a great week 🌞✈\n",
            " come back to #phl already. we need you to take us out of this horrible cold. #pleasecomeback \n",
            " should i be concerned that i am about to fly on a plane that needs to be delayed due to a \"tech stop\"?\n",
            " is the best airline i have flown on.easy to change your reservation,helpful representatives &amp; a comfortable flying experience\n",
            " and again! another rep kicked butt! naelah represents your team so beautifully!! thank you!!!\n",
            " your beautiful front-end design is down right now; but it was cool to still book my ticket b/c all your back-end was secure.\n",
            " love the team running gate e9 at las tonight. waited for a delayed flight, and they kept things entertaining\n"
          ]
        }
      ]
    },
    {
      "cell_type": "code",
      "source": [
        "# Patrón de enlaces\n",
        "patron_virgin = '@virginamerica'\n",
        "patron_american ='@americanair'\n",
        "\n",
        "for index, row in df.iterrows():\n",
        "    texto_sin_enlaces = re.sub(patron_virgin, '', row['text'])\n",
        "    df.at[index, 'text'] = texto_sin_enlaces\n",
        "for index, row in df.iterrows():\n",
        "    texto_sin_enlaces = re.sub(patron_american, '', row['text'])\n",
        "    df.at[index, 'text'] = texto_sin_enlaces\n",
        "# Filtrar tweets que cumplen con la condición\n",
        "tweets_procesados = df['text'].loc[df['text'] != \"\"]\n",
        "\n",
        "# Muestra los tweets procesados que cumplen con la condición\n",
        "for tweet in tweets_procesados[90:120]:\n",
        "    print(tweet)\n",
        "len(tweets_procesados[90])"
      ],
      "metadata": {
        "id": "qhe2VmyQO73Q",
        "outputId": "59f13095-a3ba-4eb9-b015-6f01b82a9f0f",
        "colab": {
          "base_uri": "https://localhost:8080/"
        }
      },
      "execution_count": 86,
      "outputs": [
        {
          "output_type": "stream",
          "name": "stdout",
          "text": [
            " \"you down with rnp?\" \"yeah you know me!\"\n",
            " hi, i did not get points on my elevate account for my most recent flight, how do i add the flight and points to my account?\n",
            " i like the tv and interesting video . just disappointed in cancelled flightled flight when other flights went out to jfk on saturday .\n",
            " just landed in lax, an hour after i should of been here. your no late flight bag check is not business travel friendly #nomorevirgin\n",
            " why is flight 345 redirected?\n",
            " is it me, or is your website down?  btw, your new website isn't a great user experience.  time for another redesign.\n",
            " i can't check in or add a bag. your website isn't working. i've tried both desktop and mobile \n",
            " - let 2 scanned in passengers leave the plane than told someone to remove their bag from 1st class bin? #uncomfortable\n",
            " what is your phone number. i can't find who to call about a flight reservation.\n",
            " is anyone doing anything there today?  website is useless and no one is answering the phone.\n",
            " trying to add my boy prince to my ressie. sf this thursday  from lax \n",
            " why must a traveler miss a flight to late flight check a bag?  i missed my morning appointments and you lost my business. #sfo2lax\n",
            " check out new music \n",
            " how's a direct flight fll-&gt;sfo have unexpected layover in vegas 4 fuel yet peeps next to me bought for vegas flight. #sneaky\n",
            " your no late flight bag check just lost you my business. i missed flight and am apt. three other people on flight had same exp.\n",
            " - amazing customer  service, again! 💕💕 raeann in sf - she's the best! #customerservice #virginamerica #flying\n",
            " called your service line and was hung up on. this is awesome. #sarcasm\n",
            " your site is tripping. i'm trying to check in and i'm getting the plain text version. i am reluctant to enter any card info.\n",
            " i was scheduled for sfo 2 dal flight 714 today. changed to 24th due weather. looks like flight still on?\n",
            " has getaway deals through may, from $59 one-way. lots of cool cities  #cheapflights #farecompare\n",
            " has getaway deals through may, from $59 one-way. lots of cool cities  #cheapflights #farecompare\n",
            " has getaway deals through may, from $59 one-way. lots of cool cities  #cheapflights #farecompare\n",
            " has getaway deals through may, from $59 one-way. lots of cool cities  #cheapflights #farecompare\n",
            " have a great week 🌞✈\n",
            " come back to #phl already. we need you to take us out of this horrible cold. #pleasecomeback \n",
            " should i be concerned that i am about to fly on a plane that needs to be delayed due to a \"tech stop\"?\n",
            " is the best airline i have flown on.easy to change your reservation,helpful representatives &amp; a comfortable flying experience\n",
            " and again! another rep kicked butt! naelah represents your team so beautifully!! thank you!!!\n",
            " your beautiful front-end design is down right now; but it was cool to still book my ticket b/c all your back-end was secure.\n",
            " love the team running gate e9 at las tonight. waited for a delayed flight, and they kept things entertaining\n"
          ]
        },
        {
          "output_type": "execute_result",
          "data": {
            "text/plain": [
              "41"
            ]
          },
          "metadata": {},
          "execution_count": 86
        }
      ]
    },
    {
      "cell_type": "code",
      "source": [
        "\n",
        "import pandas as pd\n",
        "\n",
        "# Supongamos que df es tu DataFrame con una columna 'text'\n",
        "\n",
        "# Convertir la columna 'text' a minúsculas y eliminar duplicados\n",
        "df_sin_duplicados = df.drop_duplicates(subset='text', keep='first', ignore_index=True)\n",
        "\n",
        "# Muestra la diferencia entre los DataFrames original y sin duplicados\n",
        "diferencia = df[~df['text'].isin(df_sin_duplicados['text'])]\n",
        "print(diferencia)\n",
        "for tweet in df_sin_duplicados['text'][90:120]:\n",
        "    print(tweet)"
      ],
      "metadata": {
        "id": "fupwPfUcQV3_",
        "outputId": "80f87d2a-a977-4f06-95bc-0f3f26d5c15e",
        "colab": {
          "base_uri": "https://localhost:8080/"
        }
      },
      "execution_count": 93,
      "outputs": [
        {
          "output_type": "stream",
          "name": "stdout",
          "text": [
            "Empty DataFrame\n",
            "Columns: [tweet_id, airline_sentiment, airline_sentiment_confidence, negativereason, negativereason_confidence, airline, airline_sentiment_gold, name, negativereason_gold, retweet_count, text, tweet_coord, tweet_created, tweet_location, user_timezone]\n",
            "Index: []\n",
            " \"you down with rnp?\" \"yeah you know me!\"\n",
            " hi, i did not get points on my elevate account for my most recent flight, how do i add the flight and points to my account?\n",
            " i like the tv and interesting video . just disappointed in cancelled flightled flight when other flights went out to jfk on saturday .\n",
            " just landed in lax, an hour after i should of been here. your no late flight bag check is not business travel friendly #nomorevirgin\n",
            " why is flight 345 redirected?\n",
            " is it me, or is your website down?  btw, your new website isn't a great user experience.  time for another redesign.\n",
            " i can't check in or add a bag. your website isn't working. i've tried both desktop and mobile \n",
            " - let 2 scanned in passengers leave the plane than told someone to remove their bag from 1st class bin? #uncomfortable\n",
            " what is your phone number. i can't find who to call about a flight reservation.\n",
            " is anyone doing anything there today?  website is useless and no one is answering the phone.\n",
            " trying to add my boy prince to my ressie. sf this thursday  from lax \n",
            " why must a traveler miss a flight to late flight check a bag?  i missed my morning appointments and you lost my business. #sfo2lax\n",
            " check out new music \n",
            " how's a direct flight fll-&gt;sfo have unexpected layover in vegas 4 fuel yet peeps next to me bought for vegas flight. #sneaky\n",
            " your no late flight bag check just lost you my business. i missed flight and am apt. three other people on flight had same exp.\n",
            " - amazing customer  service, again! 💕💕 raeann in sf - she's the best! #customerservice #virginamerica #flying\n",
            " called your service line and was hung up on. this is awesome. #sarcasm\n",
            " your site is tripping. i'm trying to check in and i'm getting the plain text version. i am reluctant to enter any card info.\n",
            " i was scheduled for sfo 2 dal flight 714 today. changed to 24th due weather. looks like flight still on?\n",
            " has getaway deals through may, from $59 one-way. lots of cool cities  #cheapflights #farecompare\n",
            " have a great week 🌞✈\n",
            " come back to #phl already. we need you to take us out of this horrible cold. #pleasecomeback \n",
            " should i be concerned that i am about to fly on a plane that needs to be delayed due to a \"tech stop\"?\n",
            " is the best airline i have flown on.easy to change your reservation,helpful representatives &amp; a comfortable flying experience\n",
            " and again! another rep kicked butt! naelah represents your team so beautifully!! thank you!!!\n",
            " your beautiful front-end design is down right now; but it was cool to still book my ticket b/c all your back-end was secure.\n",
            " love the team running gate e9 at las tonight. waited for a delayed flight, and they kept things entertaining\n",
            " use another browser! 2015 &amp; a brand with a reputation built on tech response doesn't have a cross-browser compatible website?\n",
            " and now the flight flight booking problems site is totally down. folks, what is the problem?\n",
            " i like the customer service but a 40 min delay just for connecting passengers seems too long. va370\n"
          ]
        }
      ]
    },
    {
      "cell_type": "code",
      "source": [
        "import pandas as pd\n",
        "\n",
        "# Elimina duplicados basados en la columna 'text'\n",
        "df_sin_duplicados = df.drop_duplicates(subset='text', keep='first')\n"
      ],
      "metadata": {
        "id": "nlPF417ULiKd"
      },
      "execution_count": null,
      "outputs": []
    },
    {
      "cell_type": "code",
      "source": [
        "from sklearn.feature_extraction.text import CountVectorizer\n",
        "import pandas as pd\n",
        "\n",
        "\n",
        "# Crear un vectorizador para contar las palabras en los textos\n",
        "vectorizador = CountVectorizer()\n",
        "\n",
        "# Aplicar el vectorizador a todo el conjunto de datos\n",
        "X = vectorizador.fit_transform(df['text'])\n",
        "\n",
        "# Obtener tablas de frecuencia segun el tipo de tweet\n",
        "palabras_positivas = pd.DataFrame(X[df['airline_sentiment'] == 'positive'].toarray(), columns=vectorizador.get_feature_names_out()).sum(axis=0)\n",
        "palabras_negativas = pd.DataFrame(X[df['airline_sentiment'] == 'negative'].toarray(), columns=vectorizador.get_feature_names_out()).sum(axis=0)\n",
        "\n",
        "# Crear DataFrames para las palabras más frecuentes\n",
        "palabras_positivas_contador = pd.DataFrame({'Palabra': palabras_positivas.index, 'Conteo': palabras_positivas.values})\n",
        "palabras_negativas_contador = pd.DataFrame({'Palabra': palabras_negativas.index, 'Conteo': palabras_negativas.values})\n",
        "\n",
        "# Ordenar los DataFrames por conteo en orden descendente\n",
        "palabras_positivas_contador = palabras_positivas_contador.sort_values(by='Conteo', ascending=False)\n",
        "palabras_negativas_contador = palabras_negativas_contador.sort_values(by='Conteo', ascending=False)\n",
        "\n",
        "# Imprimir las palabras más frecuentes en cada clase\n",
        "print(\"Palabras más frecuentes en tweets positivos:\")\n",
        "print(palabras_positivas_contador.head(10))\n",
        "\n",
        "print(\"\\nPalabras más frecuentes en tweets negativos:\")\n",
        "print(palabras_negativas_contador.head(10))\n"
      ],
      "metadata": {
        "colab": {
          "base_uri": "https://localhost:8080/"
        },
        "id": "Sza9sBcvHNWe",
        "outputId": "28f1f695-8c28-468e-c7b4-812900a36576"
      },
      "execution_count": 8,
      "outputs": [
        {
          "output_type": "stream",
          "name": "stdout",
          "text": [
            "Palabras más frecuentes en tweets positivos:\n",
            "            Palabra  Conteo\n",
            "13326            to    2604\n",
            "13120           the    1947\n",
            "14944           you    1679\n",
            "7804        jetblue    1343\n",
            "6157            for    1285\n",
            "13914        united    1265\n",
            "12372  southwestair    1247\n",
            "9815             on    1023\n",
            "6004         flight     996\n",
            "2281            and     908\n",
            "\n",
            "Palabras más frecuentes en tweets negativos:\n",
            "         Palabra  Conteo\n",
            "13326         to    6048\n",
            "13120        the    4114\n",
            "6004      flight    2943\n",
            "13914     united    2899\n",
            "2281         and    2825\n",
            "9815          on    2792\n",
            "14944        you    2722\n",
            "6157         for    2714\n",
            "9248          my    2407\n",
            "14086  usairways    2375\n"
          ]
        }
      ]
    },
    {
      "cell_type": "code",
      "source": [
        "from sklearn.feature_extraction.text import CountVectorizer\n",
        "import pandas as pd\n",
        "import numpy as np\n",
        "\n",
        "\n",
        "# Calcular el percentil X%\n",
        "percentil_positivo = np.percentile(palabras_positivas_contador['Conteo'], 99.5)\n",
        "percentil_negativo = np.percentile(palabras_negativas_contador['Conteo'], 99.5)\n",
        "\n",
        "# Identificar palabras comunes dentro del percentil\n",
        "palabras_comunes_percentil = set(palabras_positivas_contador[palabras_positivas_contador['Conteo'] >= percentil_positivo]['Palabra']).intersection(\n",
        "    set(palabras_negativas_contador[palabras_negativas_contador['Conteo'] >= percentil_negativo]['Palabra']))\n",
        "\n",
        "# Eliminar palabras comunes dentro del percentil\n",
        "palabras_eliminar = [palabra for palabra in palabras_comunes_percentil if\n",
        "                     palabra in palabras_positivas_contador['Palabra'].values and\n",
        "                     palabra in palabras_negativas_contador['Palabra'].values]\n",
        "\n",
        "# Eliminar las palabras comunes\n",
        "palabras_positivas_contador = palabras_positivas_contador[~palabras_positivas_contador['Palabra'].isin(palabras_eliminar)]\n",
        "palabras_negativas_contador = palabras_negativas_contador[~palabras_negativas_contador['Palabra'].isin(palabras_eliminar)]\n",
        "\n",
        "# Imprimir las palabras más frecuentes en cada clase después de eliminar las comunes\n",
        "print(\"Palabras más frecuentes en tweets positivos:\")\n",
        "print(palabras_positivas_contador.head(10))\n",
        "\n",
        "print(\"\\nPalabras más frecuentes en tweets negativos:\")\n",
        "print(palabras_negativas_contador.head(10))\n",
        "\n",
        "# Imprimir las palabras eliminadas\n",
        "print(\"\\nPalabras eliminadas en ambas clases dentro del percentil:\")\n",
        "print(palabras_eliminar)\n"
      ],
      "metadata": {
        "colab": {
          "base_uri": "https://localhost:8080/"
        },
        "id": "2YcXWXXcPLZx",
        "outputId": "80480f26-63d3-4ca8-b1cb-c02343bcb117"
      },
      "execution_count": 9,
      "outputs": [
        {
          "output_type": "stream",
          "name": "stdout",
          "text": [
            "Palabras más frecuentes en tweets positivos:\n",
            "             Palabra  Conteo\n",
            "13103         thanks     768\n",
            "13095          thank     524\n",
            "14273  virginamerica     333\n",
            "6656           great     255\n",
            "10410         please     242\n",
            "2355             any     202\n",
            "8532            love     185\n",
            "14778          would     184\n",
            "9375            need     182\n",
            "6610             got     169\n",
            "\n",
            "Palabras más frecuentes en tweets negativos:\n",
            "         Palabra  Conteo\n",
            "3495   cancelled     926\n",
            "2906        been     774\n",
            "7158       hours     649\n",
            "7051        hold     614\n",
            "4464    customer     614\n",
            "10378      plane     532\n",
            "14609        why     525\n",
            "4666     delayed     508\n",
            "12586      still     492\n",
            "3468        call     462\n",
            "\n",
            "Palabras eliminadas en ambas clases dentro del percentil:\n",
            "['that', 'of', 'in', 'flights', 'out', 'your', 'help', 'this', 'get', 'us', 'no', 'and', 'service', 'we', 'my', 'flight', 'but', 'http', 'they', 'not', 'from', 'what', 'it', 'are', 'jetblue', 'united', 'if', 'usairways', 'southwestair', 'me', 'our', 'do', 'at', 'an', 'there', 'can', 'now', 'just', 'on', 'time', 'up', 'for', 'co', 'when', 'was', 'so', 'to', 'with', 'have', 'how', 'all', 'is', 'americanair', 'be', 'will', 'the', 'you', 'amp']\n"
          ]
        }
      ]
    },
    {
      "cell_type": "markdown",
      "source": [
        "Aquí repito lo mismo pero con traintestsplit:"
      ],
      "metadata": {
        "id": "jhXuaOWmT0gj"
      }
    },
    {
      "cell_type": "code",
      "source": [
        "from sklearn.model_selection import train_test_split\n",
        "from sklearn.feature_extraction.text import CountVectorizer\n",
        "import pandas as pd\n",
        "import numpy as np\n",
        "\n",
        "\n",
        "# División en datos de entrenamiento y prueba\n",
        "X_train, X_test, y_train, y_test = train_test_split(df['text'], df['airline_sentiment'], test_size=0.2, random_state=42)\n",
        "\n",
        "# Crear un vectorizador para contar las palabras en los textos\n",
        "vectorizador = CountVectorizer()\n",
        "\n",
        "# Aplicar el vectorizador a los datos de entrenamiento y prueba\n",
        "X_train_vectorizado = vectorizador.fit_transform(X_train)\n",
        "X_test_vectorizado = vectorizador.transform(X_test)\n",
        "\n",
        "# Obtener las palabras más frecuentes en cada clase para los datos de entrenamiento\n",
        "palabras_positivas_train = pd.DataFrame(X_train_vectorizado[y_train == 'positive'].toarray(), columns=vectorizador.get_feature_names_out()).sum(axis=0)\n",
        "palabras_negativas_train = pd.DataFrame(X_train_vectorizado[y_train == 'negative'].toarray(), columns=vectorizador.get_feature_names_out()).sum(axis=0)\n",
        "\n",
        "# Crear DataFrames para las palabras más frecuentes en cada clase para los datos de entrenamiento\n",
        "palabras_positivas_contador_train = pd.DataFrame({'Palabra': palabras_positivas_train.index, 'Conteo': palabras_positivas_train.values})\n",
        "palabras_negativas_contador_train = pd.DataFrame({'Palabra': palabras_negativas_train.index, 'Conteo': palabras_negativas_train.values})\n",
        "\n",
        "# Ordenar los DataFrames por conteo en orden descendente para los datos de entrenamiento\n",
        "palabras_positivas_contador_train = palabras_positivas_contador_train.sort_values(by='Conteo', ascending=False)\n",
        "palabras_negativas_contador_train = palabras_negativas_contador_train.sort_values(by='Conteo', ascending=False)\n",
        "\n",
        "# Calcular el percentil de las frecuencias para los datos de entrenamiento\n",
        "percentil_positivo_train = np.percentile(palabras_positivas_contador_train['Conteo'], 99.5)\n",
        "percentil_negativo_train = np.percentile(palabras_negativas_contador_train['Conteo'], 99.5)\n",
        "\n",
        "# Identificar palabras comunes dentro del percentil para los datos de entrenamiento\n",
        "palabras_comunes_percentil_train = set(palabras_positivas_contador_train[palabras_positivas_contador_train['Conteo'] >= percentil_positivo_train]['Palabra']).intersection(\n",
        "    set(palabras_negativas_contador_train[palabras_negativas_contador_train['Conteo'] >= percentil_negativo_train]['Palabra']))\n",
        "\n",
        "# Eliminar palabras comunes dentro del percentil para los datos de entrenamiento\n",
        "palabras_eliminar_train = [palabra for palabra in palabras_comunes_percentil_train if\n",
        "                           palabra in palabras_positivas_contador_train['Palabra'].values and\n",
        "                           palabra in palabras_negativas_contador_train['Palabra'].values]\n",
        "\n",
        "# Eliminar las palabras comunes para los datos de entrenamiento\n",
        "palabras_positivas_contador_train = palabras_positivas_contador_train[~palabras_positivas_contador_train['Palabra'].isin(palabras_eliminar_train)]\n",
        "palabras_negativas_contador_train = palabras_negativas_contador_train[~palabras_negativas_contador_train['Palabra'].isin(palabras_eliminar_train)]\n",
        "\n",
        "# Imprimir las palabras más frecuentes en cada clase después de eliminar las comunes para los datos de entrenamiento\n",
        "print(\"Palabras más frecuentes en tweets positivos (entrenamiento):\")\n",
        "print(palabras_positivas_contador_train.head(10))\n",
        "\n",
        "print(\"\\nPalabras más frecuentes en tweets negativos (entrenamiento):\")\n",
        "print(palabras_negativas_contador_train.head(10))\n",
        "\n",
        "# Imprimir las palabras eliminadas para los datos de entrenamiento\n",
        "print(\"\\nPalabras eliminadas en ambas clases dentro del percentil (entrenamiento):\")\n",
        "print(palabras_eliminar_train)\n",
        "\n",
        "# Aplicar el vectorizador a los datos de prueba\n",
        "X_test_vectorizado = vectorizador.transform(X_test)\n",
        "\n",
        "# # Obtener las palabras más frecuentes en cada clase para los datos de prueba\n",
        "# palabras_positivas_test = pd.DataFrame(X_test_vectorizado[y_test == 'positivo'].toarray(), columns=vectorizador.get_feature_names_out()).sum(axis=0)\n",
        "# palabras_negativas_test = pd.DataFrame(X_test_vectorizado[y_test == 'negativo'].toarray(), columns=vectorizador.get_feature_names_out()).sum(axis=0)\n",
        "\n",
        "# # Crear DataFrames para las palabras más frecuentes en cada clase para los datos de prueba\n",
        "# palabras_positivas_contador_test = pd.DataFrame({'Palabra': palabras_positivas_test.index, 'Conteo': palabras_positivas_test.values})\n",
        "# palabras_negativas_contador_test = pd.DataFrame({'Palabra': palabras_negativas_test.index, 'Conteo': palabras_negativas_test.values})\n",
        "\n",
        "# # Ordenar los DataFrames por conteo en orden descendente para los datos de prueba\n",
        "# palabras_positivas_contador_test = palabras_positivas_contador_test.sort_values(by='Conteo', ascending=False)\n",
        "# palabras_negativas_contador_test = palabras_negativas_contador_test.sort_values(by='Conteo', ascending=False)\n",
        "\n"
      ],
      "metadata": {
        "id": "ctmoJWbmRHfx",
        "outputId": "857bc446-1582-42de-8ce2-52551c90fc7e",
        "colab": {
          "base_uri": "https://localhost:8080/"
        }
      },
      "execution_count": 10,
      "outputs": [
        {
          "output_type": "stream",
          "name": "stdout",
          "text": [
            "Palabras más frecuentes en tweets positivos (entrenamiento):\n",
            "             Palabra  Conteo\n",
            "11592         thanks     612\n",
            "6310            http     575\n",
            "11585          thank     426\n",
            "12610  virginamerica     268\n",
            "5838           great     211\n",
            "9164          please     198\n",
            "5292         flights     184\n",
            "11631          there     180\n",
            "6403              if     179\n",
            "2023             any     163\n",
            "\n",
            "Palabras más frecuentes en tweets negativos (entrenamiento):\n",
            "         Palabra  Conteo\n",
            "3034   cancelled     715\n",
            "2507        been     615\n",
            "6284       hours     501\n",
            "6189        hold     484\n",
            "3905    customer     483\n",
            "9136       plane     427\n",
            "12892        why     417\n",
            "4075     delayed     396\n",
            "11126      still     394\n",
            "3008        call     362\n",
            "\n",
            "Palabras eliminadas en ambas clases dentro del percentil (entrenamiento):\n",
            "['that', 'of', 'in', 'out', 'your', 'help', 'this', 'get', 'us', 'no', 'and', 'service', 'we', 'my', 'flight', 'but', 'they', 'not', 'from', 'what', 'it', 'are', 'jetblue', 'united', 'usairways', 'southwestair', 'me', 'our', 'do', 'at', 'an', 'can', 'now', 'just', 'on', 'time', 'up', 'for', 'co', 'when', 'was', 'so', 'to', 'with', 'have', 'how', 'all', 'is', 'americanair', 'be', 'will', 'the', 'you', 'amp']\n"
          ]
        }
      ]
    },
    {
      "cell_type": "code",
      "source": [],
      "metadata": {
        "id": "yyYil0zq0Wu7"
      },
      "execution_count": 10,
      "outputs": []
    },
    {
      "cell_type": "code",
      "source": [
        "import pandas as pd\n",
        "import numpy as np\n",
        "from sklearn.metrics import accuracy_score\n",
        "from sklearn.metrics import confusion_matrix\n",
        "from sklearn.metrics import classification_report\n",
        "\n",
        "# Listas de palabras positivas y negativas\n",
        "palabras_positivas_seleccionadas = palabras_positivas_contador_train['Palabra'].tolist()\n",
        "palabras_negativas_seleccionadas = palabras_negativas_contador_train['Palabra'].tolist()\n",
        "\n",
        "# Calcula el bonus para cada palabra\n",
        "bonus_positivo = 1\n",
        "bonus_negativo = -1\n",
        "\n",
        "# Asigna puntuaciones a las palabras según su frecuencia\n",
        "puntuaciones_positivas = {palabra: bonus_positivo * conteo for palabra, conteo in zip(palabras_positivas_contador_train['Palabra'], palabras_positivas_contador_train['Conteo'])}\n",
        "puntuaciones_negativas = {palabra: bonus_negativo * conteo for palabra, conteo in zip(palabras_negativas_contador_train['Palabra'], palabras_negativas_contador_train['Conteo'])}\n",
        "puntuaciones_totales = puntuaciones_positivas\n",
        "\n",
        "# Combina las puntuaciones de palabras positivas y negativas\n",
        "for i in puntuaciones_negativas:\n",
        "  if i in puntuaciones_totales:\n",
        "    puntuaciones_totales[i] += puntuaciones_negativas[i]\n",
        "  else:\n",
        "    puntuaciones_totales[i] = puntuaciones_negativas[i]\n",
        "\n",
        "# Crea una función para calcular la puntuación total de un tweet\n",
        "def calcular_puntuacion(tweet):\n",
        "    palabras_tweet = tweet.split()\n",
        "    puntuacion_tweet = sum(puntuaciones_totales.get(palabra, 0) for palabra in palabras_tweet)\n",
        "    return puntuacion_tweet\n",
        "\n",
        "# Aplica la función a cada tweet en los datos de prueba\n",
        "puntuaciones_tweets = X_test.apply(calcular_puntuacion)\n",
        "\n",
        "# Clasifica los tweets como positivos o negativos según su puntuación\n",
        "tweets_clasificados = np.where(puntuaciones_tweets >= -200, 'positive', 'negative')\n",
        "\n",
        "# Evalúa la precisión del modelo\n",
        "accuracy_puntuacion = accuracy_score(y_test, tweets_clasificados)\n",
        "print(f\"Precisión del modelo basado en puntuaciones: {accuracy_puntuacion:.2f}\")\n",
        "\n",
        "# Muestra métricas adicionales como matriz de confusión y reporte de clasificación\n",
        "print(\"\\nMatriz de Confusión:\")\n",
        "print(confusion_matrix(y_test, tweets_clasificados))\n",
        "\n",
        "print(\"\\nReporte de Clasificación:\")\n",
        "print(classification_report(y_test, tweets_clasificados))\n"
      ],
      "metadata": {
        "id": "fMJWnX13TyGU",
        "outputId": "342f30dd-0e8d-4594-8422-601898d86abd",
        "colab": {
          "base_uri": "https://localhost:8080/"
        }
      },
      "execution_count": 11,
      "outputs": [
        {
          "output_type": "stream",
          "name": "stdout",
          "text": [
            "Precisión del modelo basado en puntuaciones: 0.75\n",
            "\n",
            "Matriz de Confusión:\n",
            "[[1562  327]\n",
            " [ 407  632]]\n",
            "\n",
            "Reporte de Clasificación:\n",
            "              precision    recall  f1-score   support\n",
            "\n",
            "    negative       0.79      0.83      0.81      1889\n",
            "    positive       0.66      0.61      0.63      1039\n",
            "\n",
            "    accuracy                           0.75      2928\n",
            "   macro avg       0.73      0.72      0.72      2928\n",
            "weighted avg       0.75      0.75      0.75      2928\n",
            "\n"
          ]
        }
      ]
    },
    {
      "cell_type": "markdown",
      "source": [
        "Usar un clasificador con traintest split que directamente sen entrene con los tuits vectorizados con naive bayes y por otro lado usar el recuento de palabras para hacer una votación dandole puntos a cada palabra."
      ],
      "metadata": {
        "id": "cCHfNeGGgtP7"
      }
    },
    {
      "cell_type": "code",
      "source": [
        "from sklearn.preprocessing import LabelEncoder\n",
        "\n",
        "label_encoder = LabelEncoder()\n",
        "tweets_clasificados = label_encoder.fit_transform(tweets_clasificados)"
      ],
      "metadata": {
        "id": "z7fvMaDgDUqa"
      },
      "execution_count": 12,
      "outputs": []
    },
    {
      "cell_type": "code",
      "source": [
        "from sklearn.metrics import roc_auc_score\n",
        "y_test=label_encoder.fit_transform(y_test)\n",
        "\n",
        "macro_roc_auc_ovo = roc_auc_score(y_test, tweets_clasificados)\n",
        "print(macro_roc_auc_ovo)"
      ],
      "metadata": {
        "id": "dmRwRog_CXkZ",
        "outputId": "da159f4d-b758-4483-be67-db31c21b11d3",
        "colab": {
          "base_uri": "https://localhost:8080/"
        }
      },
      "execution_count": 13,
      "outputs": [
        {
          "output_type": "stream",
          "name": "stdout",
          "text": [
            "0.717584862669291\n"
          ]
        }
      ]
    },
    {
      "cell_type": "code",
      "source": [
        "puntuaciones_totales['thanks']"
      ],
      "metadata": {
        "id": "nOPhtsz8gsdC",
        "outputId": "6749083f-a0c9-4259-d863-6f8e95ddbf44",
        "colab": {
          "base_uri": "https://localhost:8080/"
        }
      },
      "execution_count": 14,
      "outputs": [
        {
          "output_type": "execute_result",
          "data": {
            "text/plain": [
              "366"
            ]
          },
          "metadata": {},
          "execution_count": 14
        }
      ]
    },
    {
      "cell_type": "code",
      "source": [
        "puntuaciones_tweets.sort_values()"
      ],
      "metadata": {
        "id": "ScphVFOZ8fXe",
        "outputId": "0bfaea3e-7cef-449f-daed-ca4806595eb3",
        "colab": {
          "base_uri": "https://localhost:8080/"
        }
      },
      "execution_count": 15,
      "outputs": [
        {
          "output_type": "execute_result",
          "data": {
            "text/plain": [
              "2117    -3197\n",
              "4553    -2422\n",
              "11847   -2351\n",
              "11199   -2304\n",
              "6879    -2294\n",
              "         ... \n",
              "3613      394\n",
              "5890      423\n",
              "6347      463\n",
              "9023      514\n",
              "4347      514\n",
              "Name: text, Length: 2928, dtype: int64"
            ]
          },
          "metadata": {},
          "execution_count": 15
        }
      ]
    },
    {
      "cell_type": "code",
      "source": [
        "print(y_test)\n",
        "print(tweets_clasificados)"
      ],
      "metadata": {
        "id": "erdGADKL99mC",
        "outputId": "1260a874-3c6d-438d-d6e2-81d92f51cf0a",
        "colab": {
          "base_uri": "https://localhost:8080/"
        }
      },
      "execution_count": 16,
      "outputs": [
        {
          "output_type": "stream",
          "name": "stdout",
          "text": [
            "[1 0 0 ... 1 1 0]\n",
            "[1 0 0 ... 1 1 0]\n"
          ]
        }
      ]
    },
    {
      "cell_type": "code",
      "source": [
        "tweets_clasificados"
      ],
      "metadata": {
        "id": "ZrTG4Lfq9FJJ",
        "outputId": "d63b1b1b-575c-4749-f546-d5e6b7b0264b",
        "colab": {
          "base_uri": "https://localhost:8080/"
        }
      },
      "execution_count": 17,
      "outputs": [
        {
          "output_type": "execute_result",
          "data": {
            "text/plain": [
              "array([1, 0, 0, ..., 1, 1, 0])"
            ]
          },
          "metadata": {},
          "execution_count": 17
        }
      ]
    }
  ]
}